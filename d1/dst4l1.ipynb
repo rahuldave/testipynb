{
  "metadata": {
    "name": ""
  }, 
  "nbformat": 3, 
  "nbformat_minor": 0, 
  "worksheets": [
    {
      "cells": [
        {
          "source": [
            "Exploratory Data Analysis and Statistics using Pandas and Matplotlib"
          ], 
          "cell_type": "heading", 
          "metadata": {}, 
          "level": 2
        }, 
        {
          "source": [
            "###0. Preliminary plotting stuff to get things going"
          ], 
          "cell_type": "markdown", 
          "metadata": {}
        }, 
        {
          "cell_type": "code", 
          "language": "python", 
          "outputs": [], 
          "collapsed": false, 
          "prompt_number": 1, 
          "input": [
            "%matplotlib inline\n", 
            "import numpy as np\n", 
            "import matplotlib.pyplot as plt\n", 
            "import pandas as pd\n", 
            "import matplotlib.colors as colors"
          ], 
          "metadata": {}
        }, 
        {
          "cell_type": "code", 
          "language": "python", 
          "outputs": [], 
          "collapsed": false, 
          "prompt_number": 2, 
          "input": [
            "pd.set_option('display.width', 500)\n", 
            "pd.set_option('display.max_columns', 100)"
          ], 
          "metadata": {}
        }, 
        {
          "source": [
            "###0. Preliminaries about Python\n", 
            "\n", 
            "In working with python I always remember: a python is a duck.\n", 
            "\n", 
            "What I mean is, python has a certain way of doing things. For example lets call one of these ways listiness. Listiness works on lists, dictionaries, files, and a general notion of something called an iterator.\n", 
            "\n", 
            "But first, lets introduce the notion of a comprehension. Its a way of constructing a list"
          ], 
          "cell_type": "markdown", 
          "metadata": {}
        }, 
        {
          "cell_type": "code", 
          "language": "python", 
          "outputs": [], 
          "collapsed": false, 
          "prompt_number": 3, 
          "input": [
            "alist=[1,2,3,4,5]\n", 
            "asquaredlist=[i*i for i in alist]\n", 
            "asquaredlist"
          ], 
          "metadata": {}
        }, 
        {
          "source": [
            "Python has some nifty functions like `enumerate` and `zip`."
          ], 
          "cell_type": "markdown", 
          "metadata": {}
        }, 
        {
          "cell_type": "code", 
          "language": "python", 
          "outputs": [], 
          "collapsed": false, 
          "prompt_number": 4, 
          "input": [
            "enumerate(asquaredlist)"
          ], 
          "metadata": {}
        }, 
        {
          "source": [
            "Thats a strange type. But its really a duck."
          ], 
          "cell_type": "markdown", 
          "metadata": {}
        }, 
        {
          "cell_type": "code", 
          "language": "python", 
          "outputs": [], 
          "collapsed": false, 
          "prompt_number": 5, 
          "input": [
            "[k for k in enumerate(asquaredlist)]"
          ], 
          "metadata": {}
        }, 
        {
          "source": [
            "This next one is very usefil in combining lists together..."
          ], 
          "cell_type": "markdown", 
          "metadata": {}
        }, 
        {
          "cell_type": "code", 
          "language": "python", 
          "outputs": [], 
          "collapsed": false, 
          "prompt_number": 6, 
          "input": [
            "zip(alist, asquaredlist)"
          ], 
          "metadata": {}
        }, 
        {
          "source": [
            "Open files behave like lists too!"
          ], 
          "cell_type": "markdown", 
          "metadata": {}
        }, 
        {
          "cell_type": "code", 
          "language": "python", 
          "outputs": [], 
          "collapsed": false, 
          "prompt_number": 7, 
          "input": [
            "linelengths=[len(line) for line in open(\"olive.csv\")]\n", 
            "print linelengths"
          ], 
          "metadata": {}
        }, 
        {
          "source": [
            "And so do dictionaries. But know what you are accessing"
          ], 
          "cell_type": "markdown", 
          "metadata": {}
        }, 
        {
          "cell_type": "code", 
          "language": "python", 
          "outputs": [], 
          "collapsed": false, 
          "prompt_number": 8, 
          "input": [
            "adict={'one':1, 'two': 2, 'three': 3}\n", 
            "print [i for i in adict], [(k,v) for k,v in adict.items()], adict.values()"
          ], 
          "metadata": {}
        }, 
        {
          "source": [
            "`xrange` is another duck!"
          ], 
          "cell_type": "markdown", 
          "metadata": {}
        }, 
        {
          "cell_type": "code", 
          "language": "python", 
          "outputs": [], 
          "collapsed": false, 
          "prompt_number": 9, 
          "input": [
            "mylist=[]\n", 
            "for i in xrange(10):\n", 
            "    mylist.append(i)\n", 
            "mylist"
          ], 
          "metadata": {}
        }, 
        {
          "source": [
            "From python 2.7 onwards you can construct dictionaries using dictionary comprehensions:"
          ], 
          "cell_type": "markdown", 
          "metadata": {}
        }, 
        {
          "cell_type": "code", 
          "language": "python", 
          "outputs": [], 
          "collapsed": false, 
          "prompt_number": 10, 
          "input": [
            "{k:v for (k,v) in zip(alist, asquaredlist)}"
          ], 
          "metadata": {}
        }, 
        {
          "source": [
            "### YOUR TURN NOW (5 minutes)"
          ], 
          "cell_type": "markdown", 
          "metadata": {}
        }, 
        {
          "source": [
            "create a dictionary with keys the integers upto and including 10, and values the cubes of these dictionaries"
          ], 
          "cell_type": "markdown", 
          "metadata": {}
        }, 
        {
          "cell_type": "code", 
          "language": "python", 
          "outputs": [], 
          "collapsed": false, 
          "prompt_number": 11, 
          "input": [
            "#your code here\n"
          ], 
          "metadata": {}
        }, 
        {
          "source": [
            "###1. The Olive Oils dataset"
          ], 
          "cell_type": "markdown", 
          "metadata": {}
        }, 
        {
          "source": [
            "Some of the following text is taken from the rggobi book (http://www.ggobi.org/book/). It is an excellent book on visualization and EDA for classification, and is available freely as a pdf from Hollis for those with a Harvard Id. Even though the book uses ggobi, a lot of the same analysis can be done in Mondrian or directly in Matplotlib/Pandas (albeit not interactively)."
          ], 
          "cell_type": "markdown", 
          "metadata": {}
        }, 
        {
          "source": [
            "<hr/>\n", 
            "\n", 
            "\"The Olive Oils data has eight explanatory variables (levels of fatty acids in the oils) and nine classes (areas of Italy). The goal of the analysis is to develop rules that reliably distinguish oils from the nine different areas. It is a problem of practical interest, because oil from some areas is more highly valued and unscrupulous suppliers sometimes make false claims about the origin of their oil. The content of the oils is a subject of study in its own right: Olive oil has high nutritional value, and some of its constituent fatty acids are considered to be more beneficial than others.\"\n", 
            "\n", 
            "In addition, fatty acid contents vary with climate: this information is important in deciding which varieties to grow where.\n", 
            "\n"
          ], 
          "cell_type": "markdown", 
          "metadata": {}
        }, 
        {
          "source": [
            "\"Source: Forina, M., Armanino, C., Lanteri, S. & Tiscornia, E. (1983), Classification of Olive Oils from their Fatty Acid Composition, in Martens, H. and\n", 
            "Russwurm Jr., H., eds, Food Research and Data Analysis, Applied Science\n", 
            "Publishers, London, pp. 189\u2013214. It was brought to our attention by Glover\n", 
            "& Hopke (1992).\n", 
            "\n", 
            "Number of rows: 572\n", 
            "\n", 
            "Number of variables: 10\n", 
            "\n", 
            "Description: This data consists of the percentage composition of fatty acids\n", 
            "found in the lipid fraction of Italian olive oils. The data arises from a study\n", 
            "to determine the authenticity of an olive oil.\"\n", 
            "<hr/>"
          ], 
          "cell_type": "markdown", 
          "metadata": {}
        }, 
        {
          "cell_type": "code", 
          "language": "python", 
          "outputs": [], 
          "collapsed": false, 
          "prompt_number": 12, 
          "input": [
            "from IPython.display import Image\n", 
            "Image(filename='Italy.png')"
          ], 
          "metadata": {}
        }, 
        {
          "source": [
            "In working with pandas and matplotlib I dont always remember the syntax. A programmer is a good tool for converting Stack Overflow snippets into code. I almost always put what I am trying to do into google and go from there. \n", 
            "\n", 
            "That said, I found the following links very useful in understanding the Pandas mode, how things work.\n", 
            "\n", 
            "* http://blog.yhathq.com/posts/R-and-pandas-and-what-ive-learned-about-each.html\n", 
            "* http://www.bearrelroll.com/2013/05/python-pandas-tutorial/\n", 
            "* http://manishamde.github.io/blog/2013/03/07/pandas-and-python-top-10/"
          ], 
          "cell_type": "markdown", 
          "metadata": {}
        }, 
        {
          "source": [
            "###2. Loading and Cleaning"
          ], 
          "cell_type": "markdown", 
          "metadata": {}
        }, 
        {
          "source": [
            "Let's load the olive oil dataset into a pandas dataframe and have a look at the first 5 rows."
          ], 
          "cell_type": "markdown", 
          "metadata": {}
        }, 
        {
          "cell_type": "code", 
          "language": "python", 
          "outputs": [], 
          "collapsed": false, 
          "prompt_number": 13, 
          "input": [
            "df=pd.read_csv(\"olive.csv\")\n", 
            "df.head(5)"
          ], 
          "metadata": {}
        }, 
        {
          "source": [
            "Let's rename that ugly first column. \n", 
            "\n", 
            "*Hint*: A Google search for 'python pandas dataframe rename' points you at this <a href=\"http://pandas.pydata.org/pandas-docs/dev/generated/pandas.DataFrame.rename.html\">documentation</a>."
          ], 
          "cell_type": "markdown", 
          "metadata": {}
        }, 
        {
          "cell_type": "code", 
          "language": "python", 
          "outputs": [], 
          "collapsed": false, 
          "prompt_number": 14, 
          "input": [
            "print df.columns\n", 
            "df.rename(columns={df.columns[0]:'areastring'}, inplace=True)\n", 
            "df.columns"
          ], 
          "metadata": {}
        }, 
        {
          "source": [
            "Let's explore. Which unique regions and areas are contained in the dataset?"
          ], 
          "cell_type": "markdown", 
          "metadata": {}
        }, 
        {
          "cell_type": "code", 
          "language": "python", 
          "outputs": [], 
          "collapsed": false, 
          "prompt_number": 15, 
          "input": [
            "print 'regions\\t', df.region.unique()\n", 
            "print 'areas\\t', df.area.unique()"
          ], 
          "metadata": {}
        }, 
        {
          "source": [
            "Let's create a *crosstab*ulation or contingency table of the factors.\n", 
            "\n", 
            "*Hint*: A Google search for 'python pandas cross tabulation' points you at this <a href=\"http://pandas.pydata.org/pandas-docs/stable/reshaping.html#cross-tabulations\">documentation</a>.\n"
          ], 
          "cell_type": "markdown", 
          "metadata": {}
        }, 
        {
          "cell_type": "code", 
          "language": "python", 
          "outputs": [], 
          "collapsed": false, 
          "prompt_number": 16, 
          "input": [
            "pd.crosstab(df.area, df.region)"
          ], 
          "metadata": {}
        }, 
        {
          "source": [
            "Do we need to clean the dataset before we can explore it a little more? Let's have a look."
          ], 
          "cell_type": "markdown", 
          "metadata": {}
        }, 
        {
          "cell_type": "code", 
          "language": "python", 
          "outputs": [], 
          "collapsed": false, 
          "prompt_number": 17, 
          "input": [
            "df.head()"
          ], 
          "metadata": {}
        }, 
        {
          "source": [
            "Let's get rid of the junk numbering in `df.areastring`. For single column Pandas Series we use `map`. Here's the <a href=\"http://pandas.pydata.org/pandas-docs/dev/generated/pandas.Series.map.html\">documentation</a>."
          ], 
          "cell_type": "markdown", 
          "metadata": {}
        }, 
        {
          "cell_type": "code", 
          "language": "python", 
          "outputs": [], 
          "collapsed": false, 
          "prompt_number": 18, 
          "input": [
            "df.areastring=df.areastring.map(lambda x: x.split('.')[-1])\n", 
            "df.head()"
          ], 
          "metadata": {}
        }, 
        {
          "source": [
            "To access a specific subset of columns of a dataframe, we can use list indexing."
          ], 
          "cell_type": "markdown", 
          "metadata": {}
        }, 
        {
          "cell_type": "code", 
          "language": "python", 
          "outputs": [], 
          "collapsed": false, 
          "prompt_number": 19, 
          "input": [
            "df[['palmitic','oleic']].head()"
          ], 
          "metadata": {}
        }, 
        {
          "source": [
            "Notice that this returns a new object of type DataFrame."
          ], 
          "cell_type": "markdown", 
          "metadata": {}
        }, 
        {
          "source": [
            "To access the series of entries of a single column, we could do the following."
          ], 
          "cell_type": "markdown", 
          "metadata": {}
        }, 
        {
          "cell_type": "code", 
          "language": "python", 
          "outputs": [], 
          "collapsed": false, 
          "prompt_number": 20, 
          "input": [
            "print df['palmitic']"
          ], 
          "metadata": {}
        }, 
        {
          "source": [
            "Notice the difference in the syntax. In the first example where we used list indexing we got a new DataFrame. In the second example we got a series corresponding to the column. "
          ], 
          "cell_type": "markdown", 
          "metadata": {}
        }, 
        {
          "cell_type": "code", 
          "language": "python", 
          "outputs": [], 
          "collapsed": false, 
          "prompt_number": 21, 
          "input": [
            "print \"type of df[['palmitic']]:\\t\", type(df[['palmitic']]) \n", 
            "print \"type of df['palmitic']:\\t\\t\", type(df['palmitic'])"
          ], 
          "metadata": {}
        }, 
        {
          "source": [
            "To access the series of values of a single column more conveniently, we can do this:"
          ], 
          "cell_type": "markdown", 
          "metadata": {}
        }, 
        {
          "cell_type": "code", 
          "language": "python", 
          "outputs": [], 
          "collapsed": false, 
          "prompt_number": 22, 
          "input": [
            "df.palmitic"
          ], 
          "metadata": {}
        }, 
        {
          "source": [
            "### YOUR TURN NOW (10 minutes)"
          ], 
          "cell_type": "markdown", 
          "metadata": {}
        }, 
        {
          "source": [
            "Get the unique areastrings of the dataframe `df`."
          ], 
          "cell_type": "markdown", 
          "metadata": {}
        }, 
        {
          "cell_type": "code", 
          "language": "python", 
          "outputs": [], 
          "collapsed": false, 
          "prompt_number": 23, 
          "input": [
            "#your code here\n"
          ], 
          "metadata": {}
        }, 
        {
          "source": [
            "Create a new dataframe `dfsub` by taking the list of acids and using pandas' `apply` function to divide all values by 100.\n", 
            "\n", 
            "If you're not familiar with pandas' `apply` function, a Google search for 'python pandas dataframe apply' points you to the <a href=\"http://pandas.pydata.org/pandas-docs/dev/generated/pandas.DataFrame.apply.html\">documentation</a>"
          ], 
          "cell_type": "markdown", 
          "metadata": {}
        }, 
        {
          "cell_type": "code", 
          "language": "python", 
          "outputs": [], 
          "collapsed": false, 
          "prompt_number": 24, 
          "input": [
            "acidlist=['palmitic', 'palmitoleic', 'stearic', 'oleic', 'linoleic', 'linolenic', 'arachidic', 'eicosenoic']\n", 
            "\n", 
            "#your code here\n"
          ], 
          "metadata": {}
        }, 
        {
          "source": [
            "Notice that we can replace part of the dataframe by this new frame. Since we need the percentages, let's do this. The `Oleic` percentages should be in the 70s and 80s if you did this right."
          ], 
          "cell_type": "markdown", 
          "metadata": {}
        }, 
        {
          "cell_type": "code", 
          "language": "python", 
          "outputs": [], 
          "collapsed": false, 
          "prompt_number": 25, 
          "input": [
            "df[acidlist]=dfsub\n", 
            "df.head()"
          ], 
          "metadata": {}
        }, 
        {
          "cell_type": "code", 
          "language": "python", 
          "outputs": [], 
          "collapsed": false, 
          "prompt_number": 26, 
          "input": [
            "df.palmitic.mean(), df.palmitic.std(), df.palmitic.var()"
          ], 
          "metadata": {}
        }, 
        {
          "cell_type": "code", 
          "language": "python", 
          "outputs": [], 
          "collapsed": false, 
          "prompt_number": 27, 
          "input": [
            "df.palmitic.std(), np.sqrt(df.palmitic.var())"
          ], 
          "metadata": {}
        }, 
        {
          "cell_type": "code", 
          "language": "python", 
          "outputs": [], 
          "collapsed": false, 
          "prompt_number": 28, 
          "input": [
            "np.std(df.palmitic), np.mean(df.palmitic), np.var(df.palmitic)"
          ], 
          "metadata": {}
        }, 
        {
          "cell_type": "code", 
          "language": "python", 
          "outputs": [], 
          "collapsed": false, 
          "prompt_number": 29, 
          "input": [
            "np.sqrt(np.var(df.palmitic))"
          ], 
          "metadata": {}
        }, 
        {
          "cell_type": "code", 
          "language": "python", 
          "outputs": [], 
          "collapsed": false, 
          "prompt_number": 30, 
          "input": [
            "df[acidlist].corr()"
          ], 
          "metadata": {}
        }, 
        {
          "cell_type": "code", 
          "language": "python", 
          "outputs": [], 
          "collapsed": false, 
          "prompt_number": 31, 
          "input": [
            "df[acidlist].cov()"
          ], 
          "metadata": {}
        }, 
        {
          "cell_type": "code", 
          "language": "python", 
          "outputs": [], 
          "collapsed": false, 
          "prompt_number": 32, 
          "input": [
            "df[acidlist].median(), df[acidlist].mean()"
          ], 
          "metadata": {}
        }, 
        {
          "source": [
            "###3. Quick Intro to Numpy and Matplotlib"
          ], 
          "cell_type": "markdown", 
          "metadata": {}
        }, 
        {
          "source": [
            "This is just a quick and dirty intro. Please read the excellent tutorials <a href=\"http://nbviewer.ipython.org/urls/raw.github.com/jrjohansson/scientific-python-lectures/master/Lecture-2-Numpy.ipynb\">here</a> and <a href=\"http://nbviewer.ipython.org/urls/raw.github.com/jrjohansson/scientific-python-lectures/master/Lecture-4-Matplotlib.ipynb\">here</a>."
          ], 
          "cell_type": "markdown", 
          "metadata": {}
        }, 
        {
          "source": [
            "####Lets start with numpy"
          ], 
          "cell_type": "markdown", 
          "metadata": {}
        }, 
        {
          "cell_type": "code", 
          "language": "python", 
          "outputs": [], 
          "collapsed": false, 
          "prompt_number": 33, 
          "input": [
            "v = np.array([1,2,3,4])\n", 
            "v.shape, type(v)"
          ], 
          "metadata": {}
        }, 
        {
          "cell_type": "code", 
          "language": "python", 
          "outputs": [], 
          "collapsed": false, 
          "prompt_number": 34, 
          "input": [
            "v"
          ], 
          "metadata": {}
        }, 
        {
          "cell_type": "code", 
          "language": "python", 
          "outputs": [], 
          "collapsed": false, 
          "prompt_number": 35, 
          "input": [
            "v.T"
          ], 
          "metadata": {}
        }, 
        {
          "cell_type": "code", 
          "language": "python", 
          "outputs": [], 
          "collapsed": false, 
          "prompt_number": 36, 
          "input": [
            "for j in v:\n", 
            "    print j"
          ], 
          "metadata": {}
        }, 
        {
          "cell_type": "code", 
          "language": "python", 
          "outputs": [], 
          "collapsed": false, 
          "prompt_number": 37, 
          "input": [
            "M = np.array([[1, 2], [3, 4]])\n", 
            "M"
          ], 
          "metadata": {}
        }, 
        {
          "cell_type": "code", 
          "language": "python", 
          "outputs": [], 
          "collapsed": false, 
          "prompt_number": 38, 
          "input": [
            "M.T"
          ], 
          "metadata": {}
        }, 
        {
          "cell_type": "code", 
          "language": "python", 
          "outputs": [], 
          "collapsed": false, 
          "prompt_number": 39, 
          "input": [
            "type(M), M.shape"
          ], 
          "metadata": {}
        }, 
        {
          "cell_type": "code", 
          "language": "python", 
          "outputs": [], 
          "collapsed": false, 
          "prompt_number": 40, 
          "input": [
            "M32=np.array([[1,2],[3,4],[5,6]])\n", 
            "M32"
          ], 
          "metadata": {}
        }, 
        {
          "cell_type": "code", 
          "language": "python", 
          "outputs": [], 
          "collapsed": false, 
          "prompt_number": 41, 
          "input": [
            "M32.shape"
          ], 
          "metadata": {}
        }, 
        {
          "cell_type": "code", 
          "language": "python", 
          "outputs": [], 
          "collapsed": false, 
          "prompt_number": 42, 
          "input": [
            "M23=M32.T\n", 
            "M23"
          ], 
          "metadata": {}
        }, 
        {
          "cell_type": "code", 
          "language": "python", 
          "outputs": [], 
          "collapsed": false, 
          "prompt_number": 43, 
          "input": [
            "M23.shape"
          ], 
          "metadata": {}
        }, 
        {
          "cell_type": "code", 
          "language": "python", 
          "outputs": [], 
          "collapsed": false, 
          "prompt_number": 44, 
          "input": [
            "df.palmitic.values"
          ], 
          "metadata": {}
        }, 
        {
          "cell_type": "code", 
          "language": "python", 
          "outputs": [], 
          "collapsed": false, 
          "prompt_number": 45, 
          "input": [
            "df[['palmitic', 'palmitoleic']].values"
          ], 
          "metadata": {}
        }, 
        {
          "cell_type": "code", 
          "language": "python", 
          "outputs": [], 
          "collapsed": false, 
          "prompt_number": 46, 
          "input": [
            "np.zeros(10)"
          ], 
          "metadata": {}
        }, 
        {
          "cell_type": "code", 
          "language": "python", 
          "outputs": [], 
          "collapsed": false, 
          "prompt_number": 47, 
          "input": [
            "np.ones(10).reshape(5,2)"
          ], 
          "metadata": {}
        }, 
        {
          "cell_type": "code", 
          "language": "python", 
          "outputs": [], 
          "collapsed": false, 
          "prompt_number": 48, 
          "input": [
            "myrandom=np.random.rand(5,3)\n", 
            "print myrandom"
          ], 
          "metadata": {}
        }, 
        {
          "cell_type": "code", 
          "language": "python", 
          "outputs": [], 
          "collapsed": false, 
          "prompt_number": 49, 
          "input": [
            "myrandom[0], myrandom[-1], myrandom[0][0]"
          ], 
          "metadata": {}
        }, 
        {
          "cell_type": "code", 
          "language": "python", 
          "outputs": [], 
          "collapsed": false, 
          "prompt_number": 50, 
          "input": [
            "myrandom[:,0]"
          ], 
          "metadata": {}
        }, 
        {
          "cell_type": "code", 
          "language": "python", 
          "outputs": [], 
          "collapsed": false, 
          "prompt_number": 51, 
          "input": [
            "myrandom[0,:]"
          ], 
          "metadata": {}
        }, 
        {
          "source": [
            "### YOUR TURN NOW (5 minutes)"
          ], 
          "cell_type": "markdown", 
          "metadata": {}
        }, 
        {
          "source": [
            "Reshape myrandom into 15 rows of 1 column"
          ], 
          "cell_type": "markdown", 
          "metadata": {}
        }, 
        {
          "cell_type": "code", 
          "language": "python", 
          "outputs": [], 
          "collapsed": false, 
          "prompt_number": 52, 
          "input": [
            "#your code here\n"
          ], 
          "metadata": {}
        }, 
        {
          "source": [
            "####Moving on to matplotlib"
          ], 
          "cell_type": "markdown", 
          "metadata": {}
        }, 
        {
          "cell_type": "code", 
          "language": "python", 
          "outputs": [], 
          "collapsed": false, 
          "prompt_number": 53, 
          "input": [
            "fig=plt.figure()\n", 
            "plt.scatter(df.palmitic, df.linolenic)\n", 
            "axis = fig.gca() #get current axis\n", 
            "axis.set_title('linolenic vs palmitic')\n", 
            "axis.set_xlabel('palmitic')\n", 
            "axis.set_ylabel('linolenic')\n", 
            "#ax can be got with fig.gca()"
          ], 
          "metadata": {}
        }, 
        {
          "cell_type": "code", 
          "language": "python", 
          "outputs": [], 
          "collapsed": false, 
          "prompt_number": 54, 
          "input": [
            "plt.hist(df.palmitic)"
          ], 
          "metadata": {}
        }, 
        {
          "source": [
            "There are many many more kinds of plots."
          ], 
          "cell_type": "markdown", 
          "metadata": {}
        }, 
        {
          "source": [
            "A more object oriented approach sees us using the `subplots` function to set both figure and axis."
          ], 
          "cell_type": "markdown", 
          "metadata": {}
        }, 
        {
          "cell_type": "code", 
          "language": "python", 
          "outputs": [], 
          "collapsed": false, 
          "prompt_number": 55, 
          "input": [
            "fig, axes=plt.subplots(figsize=(10,10), nrows=2, ncols=2)\n", 
            "axes[0][0].plot(df.palmitic, df.linolenic)\n", 
            "axes[0][1].plot(df.palmitic, df.linolenic, '.')\n", 
            "axes[1][0].scatter(df.palmitic, df.linolenic)\n", 
            "axes[1][1].hist(df.palmitic)\n", 
            "fig.tight_layout()"
          ], 
          "metadata": {}
        }, 
        {
          "source": [
            "###YOUR TURN NOW (10 minutes)\n", 
            "\n", 
            "Make scatterplots of the acids in the list `yacids` against the acids in the list `xacids`. As the names suggest, plot the acids in `yacids` along the y axis and the acids in `xacids` along the x axis. Label the axes with the respective acid name. Set it up as a grid with 3 rows and 2 columns."
          ], 
          "cell_type": "markdown", 
          "metadata": {}
        }, 
        {
          "cell_type": "code", 
          "language": "python", 
          "outputs": [], 
          "collapsed": false, 
          "prompt_number": 56, 
          "input": [
            "xacids=['oleic','linolenic','eicosenoic']\n", 
            "yacids=['stearic','arachidic']\n", 
            "\n", 
            "#your code here\n"
          ], 
          "metadata": {}
        }, 
        {
          "source": [
            "###4. Pandas Data Munging"
          ], 
          "cell_type": "markdown", 
          "metadata": {}
        }, 
        {
          "source": [
            "The first concept we deal with here is pandas `groupby`. The idea is to group a dataframe by the values of a particular factor variable. The documentation can be found <a href=\"http://pandas.pydata.org/pandas-docs/dev/groupby.html\">here</a>."
          ], 
          "cell_type": "markdown", 
          "metadata": {}
        }, 
        {
          "cell_type": "code", 
          "language": "python", 
          "outputs": [], 
          "collapsed": false, 
          "prompt_number": 57, 
          "input": [
            "region_groupby = df.groupby('region')\n", 
            "print type(region_groupby)\n", 
            "region_groupby.head()"
          ], 
          "metadata": {}
        }, 
        {
          "source": [
            "The function `groupby` gives you a dictionary-like object, with the keys being the values of the factor, and the values being the corresponding subsets of the dataframe."
          ], 
          "cell_type": "markdown", 
          "metadata": {}
        }, 
        {
          "cell_type": "code", 
          "language": "python", 
          "outputs": [], 
          "collapsed": false, 
          "prompt_number": 58, 
          "input": [
            "for key, value in region_groupby:\n", 
            "    print \"( key, type(value) ) = (\", key, \",\", type(value), \")\"\n", 
            "    v=value\n", 
            "\n", 
            "v.head()"
          ], 
          "metadata": {}
        }, 
        {
          "source": [
            "The `groupby` function also acts like an object that can be **mapped**. After the mapping is complete, the rows are put together (**reduced**) into a larger dataframe. For example, using the `describe` function. The documentation of the `describe` function can be found <a href=\"http://pandas.pydata.org/pandas-docs/dev/generated/pandas.DataFrame.describe.html\">here</a>."
          ], 
          "cell_type": "markdown", 
          "metadata": {}
        }, 
        {
          "cell_type": "code", 
          "language": "python", 
          "outputs": [], 
          "collapsed": false, 
          "prompt_number": 59, 
          "input": [
            "dfrd=region_groupby.describe()\n", 
            "print type(dfrd)\n", 
            "dfrd.head(20)"
          ], 
          "metadata": {}
        }, 
        {
          "source": [
            "So, one may iterate through the groupby 'dictionary', get the pandas series from each sub-dataframe, and compute the standard deviation using the `std` function (find documentation of `std` <a href=\"http://pandas.pydata.org/pandas-docs/dev/generated/pandas.DataFrame.std.html\">here</a>):"
          ], 
          "cell_type": "markdown", 
          "metadata": {}
        }, 
        {
          "cell_type": "code", 
          "language": "python", 
          "outputs": [], 
          "collapsed": false, 
          "prompt_number": 60, 
          "input": [
            "vecs=[]\n", 
            "keys=[]\n", 
            "for key, value in region_groupby:\n", 
            "    k=key\n", 
            "    v=value.std()\n", 
            "print k, type(v), v"
          ], 
          "metadata": {}
        }, 
        {
          "source": [
            "Or one might let pandas take care of concatenating the series obtained by running `std` on each dataframe back into a dataframe for us. Notice that the output dataframe is automatically indexed by region for us!"
          ], 
          "cell_type": "markdown", 
          "metadata": {}
        }, 
        {
          "cell_type": "code", 
          "language": "python", 
          "outputs": [], 
          "collapsed": false, 
          "prompt_number": 61, 
          "input": [
            "dfbystd=df.groupby('region').std()\n", 
            "dfbystd.head()"
          ], 
          "metadata": {}
        }, 
        {
          "source": [
            "Or one can use `aggregate` to pass an arbitrary function of to the sub-dataframe. The function is applied columnwise."
          ], 
          "cell_type": "markdown", 
          "metadata": {}
        }, 
        {
          "cell_type": "code", 
          "language": "python", 
          "outputs": [], 
          "collapsed": false, 
          "prompt_number": 62, 
          "input": [
            "dfbymean=region_groupby.aggregate(np.mean)\n", 
            "dfbymean.head()"
          ], 
          "metadata": {}
        }, 
        {
          "cell_type": "code", 
          "language": "python", 
          "outputs": [], 
          "collapsed": false, 
          "prompt_number": 63, 
          "input": [
            "region_groupby.aggregate(lambda x: x.palmitic.sum()) #probably not what u had in mind :-)"
          ], 
          "metadata": {}
        }, 
        {
          "source": [
            "Or one can use `apply` to pass an arbitrary function to the sub-dataframe. This one takes the dataframe as argument."
          ], 
          "cell_type": "markdown", 
          "metadata": {}
        }, 
        {
          "cell_type": "code", 
          "language": "python", 
          "outputs": [], 
          "collapsed": false, 
          "prompt_number": 64, 
          "input": [
            "region_groupby.apply(lambda f: f.mean())"
          ], 
          "metadata": {}
        }, 
        {
          "cell_type": "code", 
          "language": "python", 
          "outputs": [], 
          "collapsed": false, 
          "prompt_number": 65, 
          "input": [
            "region_groupby.apply(lambda f: f.palmitic.mean())"
          ], 
          "metadata": {}
        }, 
        {
          "source": [
            "Let's rename the columns in `dfbymean` and `dfbystd`."
          ], 
          "cell_type": "markdown", 
          "metadata": {}
        }, 
        {
          "cell_type": "code", 
          "language": "python", 
          "outputs": [], 
          "collapsed": false, 
          "prompt_number": 66, 
          "input": [
            "renamedict_std={k:k+\"_std\" for k in acidlist}\n", 
            "renamedict_mean={k:k+\"_mean\" for k in acidlist}\n", 
            "dfbystd.rename(inplace=True, columns=renamedict_std)\n", 
            "dfbymean.rename(inplace=True, columns=renamedict_mean) \n", 
            "dfbystd.head()"
          ], 
          "metadata": {}
        }, 
        {
          "source": [
            "Pandas can do general merges. When we do that along an index, it's called a `join` (<a href=\"http://pandas.pydata.org/pandas-docs/dev/generated/pandas.DataFrame.join.html\">documentation</a>). Here we make two sub-dataframes and join them on the common region index."
          ], 
          "cell_type": "markdown", 
          "metadata": {}
        }, 
        {
          "cell_type": "code", 
          "language": "python", 
          "outputs": [], 
          "collapsed": false, 
          "prompt_number": 67, 
          "input": [
            "dfpalmiticmean = dfbymean[['palmitic_mean']] \n", 
            "dfpalmiticstd = dfbystd[['palmitic_std']] \n", 
            "\n", 
            "newdfbyregion=dfpalmiticmean.join(dfpalmiticstd)\n", 
            "newdfbyregion.head()"
          ], 
          "metadata": {}
        }, 
        {
          "source": [
            "###YOUR TURN NOW (10 minutes)\n", 
            "\n", 
            "Let's weight the palmitic acids content by a random weight. We'll first extract a subset of columns from `df` and then you will write a function to weigh the palmitic content by this random weight, delivering a weighted palmitic mean in the final dataframe."
          ], 
          "cell_type": "markdown", 
          "metadata": {}
        }, 
        {
          "cell_type": "code", 
          "language": "python", 
          "outputs": [], 
          "collapsed": false, 
          "prompt_number": 68, 
          "input": [
            "df.shape"
          ], 
          "metadata": {}
        }, 
        {
          "cell_type": "code", 
          "language": "python", 
          "outputs": [], 
          "collapsed": false, 
          "prompt_number": 69, 
          "input": [
            "weights=np.random.uniform(size=df.shape[0])\n", 
            "smallerdf=df[['palmitic']]\n", 
            "otherdf=df[['region']]\n", 
            "otherdf['weight'] = weights\n", 
            "otherdf.head()"
          ], 
          "metadata": {}
        }, 
        {
          "source": [
            "Join `smallerdf` and `otherdf` on the index, into smallerdf"
          ], 
          "cell_type": "markdown", 
          "metadata": {}
        }, 
        {
          "cell_type": "code", 
          "language": "python", 
          "outputs": [], 
          "collapsed": false, 
          "prompt_number": 70, 
          "input": [
            "#your code here\n"
          ], 
          "metadata": {}
        }, 
        {
          "source": [
            "Now lets use these weights to compute a weighted average over the palmitic column."
          ], 
          "cell_type": "markdown", 
          "metadata": {}
        }, 
        {
          "cell_type": "code", 
          "language": "python", 
          "outputs": [], 
          "collapsed": false, 
          "prompt_number": 71, 
          "input": [
            "#your code here\n"
          ], 
          "metadata": {}
        }, 
        {
          "source": [
            "Finally aggregate the column percentages by summing them up over the regions."
          ], 
          "cell_type": "markdown", 
          "metadata": {}
        }, 
        {
          "cell_type": "code", 
          "language": "python", 
          "outputs": [], 
          "collapsed": false, 
          "prompt_number": 72, 
          "input": [
            "#your code here\n"
          ], 
          "metadata": {}
        }, 
        {
          "source": [
            "###5. One Dimensional Exploratory Data Analysis (EDA) with Pandas"
          ], 
          "cell_type": "markdown", 
          "metadata": {}
        }, 
        {
          "cell_type": "code", 
          "language": "python", 
          "outputs": [], 
          "collapsed": false, 
          "prompt_number": 73, 
          "input": [
            "rkeys=[1,2,3]\n", 
            "rvals=['South','Sardinia','North']\n", 
            "rmap={e[0]:e[1] for e in zip(rkeys,rvals)}\n", 
            "rmap"
          ], 
          "metadata": {}
        }, 
        {
          "source": [
            "Let's get a dataframe with just the acids."
          ], 
          "cell_type": "markdown", 
          "metadata": {}
        }, 
        {
          "cell_type": "code", 
          "language": "python", 
          "outputs": [], 
          "collapsed": false, 
          "prompt_number": 74, 
          "input": [
            "mdf2=df.groupby('region').aggregate(np.mean)\n", 
            "mdf2=mdf2[acidlist]\n", 
            "mdf2.head()"
          ], 
          "metadata": {}
        }, 
        {
          "source": [
            "Let's make a bar plot of the relative mean percentages of the acids. In pandas this is as simple as:"
          ], 
          "cell_type": "markdown", 
          "metadata": {}
        }, 
        {
          "cell_type": "code", 
          "language": "python", 
          "outputs": [], 
          "collapsed": false, 
          "prompt_number": 75, 
          "input": [
            "ax=mdf2.plot(kind='barh', stacked=True)\n", 
            "ax.set_yticklabels(rvals)\n", 
            "ax.set_xlim([0,100])"
          ], 
          "metadata": {}
        }, 
        {
          "cell_type": "code", 
          "language": "python", 
          "outputs": [], 
          "collapsed": false, 
          "prompt_number": 76, 
          "input": [
            "df.palmitic.hist()"
          ], 
          "metadata": {}
        }, 
        {
          "source": [
            "The above graph get's proportions of all the acids in each region. We can ask the opposite question: for each acid, what's the distribution of regions?"
          ], 
          "cell_type": "markdown", 
          "metadata": {}
        }, 
        {
          "cell_type": "code", 
          "language": "python", 
          "outputs": [], 
          "collapsed": false, 
          "prompt_number": 77, 
          "input": [
            "fig, axes=plt.subplots(figsize=(10,20), nrows=len(acidlist), ncols=1)\n", 
            "i=0\n", 
            "for ax in axes.flatten():\n", 
            "    acid=acidlist[i]\n", 
            "    seriesacid=df[acid]#get the Pandas series\n", 
            "    minmax=[seriesacid.min(), seriesacid.max()]\n", 
            "    for k,g in df.groupby('region'):\n", 
            "        style = {'histtype':'stepfilled', 'alpha':0.5, 'label':rmap[k], 'ax':ax}\n", 
            "        g[acid].hist(**style)\n", 
            "        ax.set_xlim(minmax)\n", 
            "        ax.set_title(acid)\n", 
            "        ax.grid(False)\n", 
            "    #construct legend\n", 
            "    ax.legend()\n", 
            "    i=i+1\n", 
            "fig.tight_layout()\n"
          ], 
          "metadata": {}
        }, 
        {
          "source": [
            "You can make a mask!"
          ], 
          "cell_type": "markdown", 
          "metadata": {}
        }, 
        {
          "cell_type": "code", 
          "language": "python", 
          "outputs": [], 
          "collapsed": false, 
          "prompt_number": 78, 
          "input": [
            "mask=(df.eicosenoic < 0.05)\n", 
            "mask"
          ], 
          "metadata": {}
        }, 
        {
          "source": [
            "The first gives a count, the second is a shortcut to get a probability!"
          ], 
          "cell_type": "markdown", 
          "metadata": {}
        }, 
        {
          "cell_type": "code", 
          "language": "python", 
          "outputs": [], 
          "collapsed": false, 
          "prompt_number": 79, 
          "input": [
            "np.sum(mask), np.mean(mask)"
          ], 
          "metadata": {}
        }, 
        {
          "source": [
            "Pandas supports conditional indexing: <a href=\"http://pandas.pydata.org/pandas-docs/dev/indexing.html#boolean-indexing\">documentation</a>"
          ], 
          "cell_type": "markdown", 
          "metadata": {}
        }, 
        {
          "cell_type": "code", 
          "language": "python", 
          "outputs": [], 
          "collapsed": false, 
          "prompt_number": 80, 
          "input": [
            "loweico=df[df.eicosenoic < 0.02]\n", 
            "pd.crosstab(loweico.area, loweico.region)"
          ], 
          "metadata": {}
        }, 
        {
          "source": [
            "### YOUR TURN NOW (10 minutes)\n", 
            "\n", 
            "You can see that oleic dominates, and doesn't let us see much about the other acids. Remove it and let's draw bar plots again."
          ], 
          "cell_type": "markdown", 
          "metadata": {}
        }, 
        {
          "cell_type": "code", 
          "language": "python", 
          "outputs": [], 
          "collapsed": false, 
          "prompt_number": 81, 
          "input": [
            "acidlistminusoleic=['palmitic', 'palmitoleic', 'stearic', 'linoleic', 'linolenic', 'arachidic', 'eicosenoic']\n", 
            "#your code here\n"
          ], 
          "metadata": {}
        }, 
        {
          "source": [
            "**Note that there are no eicosenoic acids in regions 2 and 3, which are Sardinia and the North respectively**"
          ], 
          "cell_type": "markdown", 
          "metadata": {}
        }, 
        {
          "source": [
            "###6. Two-dimensional EDA with Pandas"
          ], 
          "cell_type": "markdown", 
          "metadata": {}
        }, 
        {
          "source": [
            "Let's write code to scatterplot acid against acid color coded by region. A more polished version is in the appendix"
          ], 
          "cell_type": "markdown", 
          "metadata": {}
        }, 
        {
          "cell_type": "code", 
          "language": "python", 
          "outputs": [], 
          "collapsed": false, 
          "prompt_number": 82, 
          "input": [
            "# just do the boxplot without the marginals to split the north out\n", 
            "mycolors=['#348ABD', '#A60628', '#7A68A6', '#467821','#D55E00',  '#CC79A7', \n", 
            "           '#56B4E9', '#009E73', '#F0E442']\n", 
            "cmap=colors.ListedColormap(mycolors)\n", 
            "a=np.outer(np.arange(0,1,0.01),np.ones(10))\n", 
            "plt.imshow(a.T, cmap=cmap, origin=\"lower\");"
          ], 
          "metadata": {}
        }, 
        {
          "cell_type": "code", 
          "language": "python", 
          "outputs": [], 
          "collapsed": false, 
          "prompt_number": 83, 
          "input": [
            "def make2d_eda(df, scatterx, scattery, by=\"region\", labeler={}):\n", 
            "    figure=plt.figure(figsize=(8,8))\n", 
            "    ax=plt.gca()\n", 
            "    cs=list(np.linspace(0,1,len(df.groupby(by))))\n", 
            "    xlimsd={}\n", 
            "    ylimsd={}\n", 
            "    xs={}\n", 
            "    ys={}\n", 
            "    for k,g in df.groupby(by):\n", 
            "        col=cs.pop()\n", 
            "        x=g[scatterx]\n", 
            "        y=g[scattery]\n", 
            "        c=cmap(col)\n", 
            "        ax.scatter(x, y, c=c, label=labeler.get(k,k), s=40, alpha=0.4);\n", 
            "        xlimsd[k]=ax.get_xlim()\n", 
            "        ylimsd[k]=ax.get_ylim()\n", 
            "    xlims=[min([xlimsd[k][0] for k in xlimsd]), max([xlimsd[k][1] for k in xlimsd])]\n", 
            "    ylims=[min([ylimsd[k][0] for k in ylimsd]), max([ylimsd[k][1] for k in ylimsd])]\n", 
            "    ax.set_xlim(xlims)\n", 
            "    ax.set_ylim(ylims)\n", 
            "    ax.set_xlabel(scatterx)\n", 
            "    ax.set_ylabel(scattery)\n", 
            "    ax.grid(False)\n", 
            "    return ax\n", 
            "a=make2d_eda(df, \"linoleic\",\"arachidic\", labeler=rmap)\n", 
            "a.legend(loc='upper right');"
          ], 
          "metadata": {}
        }, 
        {
          "source": [
            "**A nonlinear, or even marginally linear classifier could separate the north from Sardinia!**"
          ], 
          "cell_type": "markdown", 
          "metadata": {}
        }, 
        {
          "source": [
            "We use the really ugly trellis rplot interface in Pandas to do some hierarchical digging. We plot oleic against linoleic. **We can split Sardinia. We might be able to split East Liguria out but there could be significant misclassification.**"
          ], 
          "cell_type": "markdown", 
          "metadata": {}
        }, 
        {
          "cell_type": "code", 
          "language": "python", 
          "outputs": [], 
          "collapsed": false, 
          "prompt_number": 84, 
          "input": [
            "import pandas.tools.rplot as rplot\n", 
            "dfcopy=df.copy()\n", 
            "dfcopy['region']=dfcopy['region'].map(rmap)\n", 
            "imap={e[0]:e[1] for e in zip (df.area.unique(), df.areastring.unique())}\n", 
            "#dfcopy['area']=dfcopy['area'].map(imap)\n", 
            "plot = rplot.RPlot(dfcopy, x='linoleic', y='oleic');\n", 
            "plot.add(rplot.TrellisGrid(['region', '.']))\n", 
            "plot.add(rplot.GeomPoint(size=40.0, alpha=0.3, colour=rplot.ScaleRandomColour('area')));\n", 
            "\n", 
            "fig=plot.render()\n", 
            "print df.areastring.unique()\n"
          ], 
          "metadata": {}
        }, 
        {
          "source": [
            "### YOUR TURN NOW (10 minutes)"
          ], 
          "cell_type": "markdown", 
          "metadata": {}
        }, 
        {
          "source": [
            "Plot palmitoleic against palimitic. **What can you separate?** Use the `dfcopy` dataframe."
          ], 
          "cell_type": "markdown", 
          "metadata": {}
        }, 
        {
          "cell_type": "code", 
          "language": "python", 
          "outputs": [], 
          "collapsed": false, 
          "prompt_number": 85, 
          "input": [
            "#your code here\n"
          ], 
          "metadata": {}
        }, 
        {
          "source": [
            "###7. Probability and  Probability distributions"
          ], 
          "cell_type": "markdown", 
          "metadata": {}
        }, 
        {
          "cell_type": "code", 
          "language": "python", 
          "outputs": [], 
          "collapsed": false, 
          "prompt_number": 86, 
          "input": [
            "import scipy.stats as stats\n", 
            "mu=0.\n", 
            "sigma=1.\n", 
            "#samples=np.random.normal(mu, sigma, 10000)\n", 
            "#plt.hist(samples,bins=25, alpha=0.4, normed=True)\n", 
            "nd=stats.norm()\n", 
            "plt.hist(nd.rvs(size=10000), bins=50, alpha=0.2,normed=True)\n", 
            "x=np.linspace(-4.0,4.0,100)\n", 
            "plt.plot(x,nd.pdf(x))\n", 
            "plt.plot(x,nd.cdf(x))"
          ], 
          "metadata": {}
        }, 
        {
          "cell_type": "code", 
          "language": "python", 
          "outputs": [], 
          "collapsed": false, 
          "prompt_number": 87, 
          "input": [
            "mean = [0,0]\n", 
            "cov = [[1,0],[0,5]] # diagonal covariance, points lie on x or y-axis\n", 
            "m=300\n", 
            "nrvs = np.random.multivariate_normal(mean,cov,(m,m))\n", 
            "duets=nrvs.reshape(m*m,2)\n", 
            "print duets[:,1]\n", 
            "normaldf=pd.DataFrame(dict(x=duets[:,0], y=duets[:,1]))\n", 
            "normaldf.head()\n"
          ], 
          "metadata": {}
        }, 
        {
          "cell_type": "code", 
          "language": "python", 
          "outputs": [], 
          "collapsed": false, 
          "prompt_number": 88, 
          "input": [
            "H, xedges, yedges = np.histogram2d(normaldf.x, normaldf.y, bins=(50, 50), normed=True)\n", 
            "extent = [xedges[0], xedges[-1], yedges[-1], yedges[0]]\n", 
            "plt.imshow(H, extent=extent, interpolation='nearest')\n", 
            "plt.colorbar()"
          ], 
          "metadata": {}
        }, 
        {
          "source": [
            "###8. Miscellaneous Pandas Plotting tools: scatters, boxplots, and parallel co-ordinates"
          ], 
          "cell_type": "markdown", 
          "metadata": {}
        }, 
        {
          "cell_type": "code", 
          "language": "python", 
          "outputs": [], 
          "collapsed": false, 
          "prompt_number": 89, 
          "input": [
            "from pandas.tools.plotting import scatter_matrix\n", 
            "scatter_matrix(df[['linoleic','arachidic','eicosenoic']], alpha=0.3, figsize=(10, 10), diagonal='kde');"
          ], 
          "metadata": {}
        }, 
        {
          "cell_type": "code", 
          "language": "python", 
          "outputs": [], 
          "collapsed": false, 
          "prompt_number": 90, 
          "input": [
            "plt.figure(figsize=(12,20))\n", 
            "for key, group in df.groupby('region'):\n", 
            "    plt.subplot(int('31'+str(key)))\n", 
            "    group[acidlistminusoleic].boxplot(grid=False)\n", 
            "    ax=plt.gca()\n", 
            "    ax.set_title(rvals[key-1])\n", 
            "    ax.grid(axis=\"y\", color=\"gray\", linestyle=':', lw=1)\n"
          ], 
          "metadata": {}
        }, 
        {
          "cell_type": "code", 
          "language": "python", 
          "outputs": [], 
          "collapsed": false, 
          "prompt_number": 91, 
          "input": [
            "from pandas.tools.plotting import parallel_coordinates\n", 
            "dfna=df[['region', 'palmitic', 'palmitoleic', 'stearic', 'oleic', 'linolenic', 'linoleic', 'arachidic', 'eicosenoic']]\n", 
            "dfna_norm = (dfna - dfna.mean()) / (dfna.max() - dfna.min())\n", 
            "dfna_norm['region']=df['region'].map(lambda x: rmap[x])\n", 
            "parallel_coordinates(dfna_norm, 'region', alpha=0.1)"
          ], 
          "metadata": {}
        }
      ], 
      "metadata": {}
    }
  ]
}